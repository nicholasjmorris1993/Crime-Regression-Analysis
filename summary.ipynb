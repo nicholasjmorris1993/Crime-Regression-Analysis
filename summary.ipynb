{
 "cells": [
  {
   "cell_type": "markdown",
   "id": "87040190-4934-4a75-a474-249e683c9226",
   "metadata": {},
   "source": [
    "### Crime Rate Modeling"
   ]
  },
  {
   "cell_type": "code",
   "execution_count": 1,
   "id": "1aa668cb-66ff-415d-9fe1-b2df210c1144",
   "metadata": {},
   "outputs": [
    {
     "data": {
      "text/html": [
       "<div>\n",
       "<style scoped>\n",
       "    .dataframe tbody tr th:only-of-type {\n",
       "        vertical-align: middle;\n",
       "    }\n",
       "\n",
       "    .dataframe tbody tr th {\n",
       "        vertical-align: top;\n",
       "    }\n",
       "\n",
       "    .dataframe thead th {\n",
       "        text-align: right;\n",
       "    }\n",
       "</style>\n",
       "<table border=\"1\" class=\"dataframe\">\n",
       "  <thead>\n",
       "    <tr style=\"text-align: right;\">\n",
       "      <th></th>\n",
       "      <th>Model</th>\n",
       "      <th>Feature Engineering</th>\n",
       "      <th>R2</th>\n",
       "      <th>RMSE</th>\n",
       "    </tr>\n",
       "  </thead>\n",
       "  <tbody>\n",
       "    <tr>\n",
       "      <th>0</th>\n",
       "      <td>Lasso</td>\n",
       "      <td>No</td>\n",
       "      <td>0.94</td>\n",
       "      <td>20.76</td>\n",
       "    </tr>\n",
       "    <tr>\n",
       "      <th>1</th>\n",
       "      <td>Lasso</td>\n",
       "      <td>Yes</td>\n",
       "      <td>0.94</td>\n",
       "      <td>20.91</td>\n",
       "    </tr>\n",
       "    <tr>\n",
       "      <th>2</th>\n",
       "      <td>XGBoost</td>\n",
       "      <td>No</td>\n",
       "      <td>0.94</td>\n",
       "      <td>21.53</td>\n",
       "    </tr>\n",
       "    <tr>\n",
       "      <th>3</th>\n",
       "      <td>XGBoost</td>\n",
       "      <td>Yes</td>\n",
       "      <td>0.93</td>\n",
       "      <td>22.04</td>\n",
       "    </tr>\n",
       "    <tr>\n",
       "      <th>4</th>\n",
       "      <td>Tensorflow</td>\n",
       "      <td>No</td>\n",
       "      <td>0.87</td>\n",
       "      <td>31.32</td>\n",
       "    </tr>\n",
       "    <tr>\n",
       "      <th>5</th>\n",
       "      <td>Tensorflow</td>\n",
       "      <td>Yes</td>\n",
       "      <td>0.83</td>\n",
       "      <td>34.97</td>\n",
       "    </tr>\n",
       "  </tbody>\n",
       "</table>\n",
       "</div>"
      ],
      "text/plain": [
       "        Model Feature Engineering    R2   RMSE\n",
       "0       Lasso                  No  0.94  20.76\n",
       "1       Lasso                 Yes  0.94  20.91\n",
       "2     XGBoost                  No  0.94  21.53\n",
       "3     XGBoost                 Yes  0.93  22.04\n",
       "4  Tensorflow                  No  0.87  31.32\n",
       "5  Tensorflow                 Yes  0.83  34.97"
      ]
     },
     "execution_count": 1,
     "metadata": {},
     "output_type": "execute_result"
    }
   ],
   "source": [
    "import pandas as pd\n",
    "\n",
    "df = pd.DataFrame({\n",
    "    \"Model\": [\"Lasso\", \"Lasso\", \"XGBoost\", \"XGBoost\", \"Tensorflow\", \"Tensorflow\"],\n",
    "    \"Feature Engineering\": [\"No\", \"Yes\", \"No\", \"Yes\", \"No\", \"Yes\"],\n",
    "    \"R2\": [0.94, 0.94, 0.94, 0.93, 0.87, 0.83],\n",
    "    \"RMSE\": [20.76, 20.91, 21.53, 22.04, 31.32, 34.97],\n",
    "})\n",
    "df = df.sort_values(by=\"RMSE\", ascending=True).reset_index(drop=True)\n",
    "df"
   ]
  }
 ],
 "metadata": {
  "kernelspec": {
   "display_name": "sagemaker-distribution:Python",
   "language": "python",
   "name": "conda-env-sagemaker-distribution-py"
  },
  "language_info": {
   "codemirror_mode": {
    "name": "ipython",
    "version": 3
   },
   "file_extension": ".py",
   "mimetype": "text/x-python",
   "name": "python",
   "nbconvert_exporter": "python",
   "pygments_lexer": "ipython3",
   "version": "3.8.17"
  }
 },
 "nbformat": 4,
 "nbformat_minor": 5
}
