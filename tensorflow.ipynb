{
 "cells": [
  {
   "cell_type": "code",
   "execution_count": 1,
   "id": "abb00f0e-b45a-475a-ab3f-1647e3f87002",
   "metadata": {},
   "outputs": [
    {
     "name": "stdout",
     "output_type": "stream",
     "text": [
      "Requirement already satisfied: plotly in /opt/conda/envs/sagemaker-distribution/lib/python3.8/site-packages (5.17.0)\n",
      "Requirement already satisfied: tenacity>=6.2.0 in /opt/conda/envs/sagemaker-distribution/lib/python3.8/site-packages (from plotly) (8.2.3)\n",
      "Requirement already satisfied: packaging in /opt/conda/envs/sagemaker-distribution/lib/python3.8/site-packages (from plotly) (23.1)\n",
      "Note: you may need to restart the kernel to use updated packages.\n",
      "Requirement already satisfied: py-cpuinfo in /opt/conda/envs/sagemaker-distribution/lib/python3.8/site-packages (9.0.0)\n",
      "Note: you may need to restart the kernel to use updated packages.\n",
      "Requirement already satisfied: pandas-datareader in /opt/conda/envs/sagemaker-distribution/lib/python3.8/site-packages (0.10.0)\n",
      "Requirement already satisfied: lxml in /opt/conda/envs/sagemaker-distribution/lib/python3.8/site-packages (from pandas-datareader) (4.9.3)\n",
      "Requirement already satisfied: pandas>=0.23 in /opt/conda/envs/sagemaker-distribution/lib/python3.8/site-packages (from pandas-datareader) (2.0.3)\n",
      "Requirement already satisfied: requests>=2.19.0 in /opt/conda/envs/sagemaker-distribution/lib/python3.8/site-packages (from pandas-datareader) (2.31.0)\n",
      "Requirement already satisfied: python-dateutil>=2.8.2 in /opt/conda/envs/sagemaker-distribution/lib/python3.8/site-packages (from pandas>=0.23->pandas-datareader) (2.8.2)\n",
      "Requirement already satisfied: pytz>=2020.1 in /opt/conda/envs/sagemaker-distribution/lib/python3.8/site-packages (from pandas>=0.23->pandas-datareader) (2023.3)\n",
      "Requirement already satisfied: tzdata>=2022.1 in /opt/conda/envs/sagemaker-distribution/lib/python3.8/site-packages (from pandas>=0.23->pandas-datareader) (2023.3)\n",
      "Requirement already satisfied: numpy>=1.20.3 in /opt/conda/envs/sagemaker-distribution/lib/python3.8/site-packages (from pandas>=0.23->pandas-datareader) (1.24.4)\n",
      "Requirement already satisfied: charset-normalizer<4,>=2 in /opt/conda/envs/sagemaker-distribution/lib/python3.8/site-packages (from requests>=2.19.0->pandas-datareader) (3.2.0)\n",
      "Requirement already satisfied: idna<4,>=2.5 in /opt/conda/envs/sagemaker-distribution/lib/python3.8/site-packages (from requests>=2.19.0->pandas-datareader) (3.4)\n",
      "Requirement already satisfied: urllib3<3,>=1.21.1 in /opt/conda/envs/sagemaker-distribution/lib/python3.8/site-packages (from requests>=2.19.0->pandas-datareader) (1.26.15)\n",
      "Requirement already satisfied: certifi>=2017.4.17 in /opt/conda/envs/sagemaker-distribution/lib/python3.8/site-packages (from requests>=2.19.0->pandas-datareader) (2023.7.22)\n",
      "Requirement already satisfied: six>=1.5 in /opt/conda/envs/sagemaker-distribution/lib/python3.8/site-packages (from python-dateutil>=2.8.2->pandas>=0.23->pandas-datareader) (1.16.0)\n",
      "Note: you may need to restart the kernel to use updated packages.\n"
     ]
    }
   ],
   "source": [
    "# install missing packages\n",
    "%pip install plotly\n",
    "%pip install py-cpuinfo\n",
    "%pip install pandas-datareader"
   ]
  },
  {
   "cell_type": "code",
   "execution_count": 2,
   "id": "28211ea4-4ff7-48eb-a395-53442492a061",
   "metadata": {
    "tags": []
   },
   "outputs": [
    {
     "name": "stdout",
     "output_type": "stream",
     "text": [
      "Total RAM: 15.47 GB\n",
      "Available RAM: 13.46 GB\n",
      "Used RAM: 1.75 GB\n",
      "Percentage Usage Of RAM: 13.0%\n",
      "CPU Cores: 4\n",
      "CPU Speed: 2.5000 GHz\n",
      "Total Disk: 24.99 GB\n",
      "Available Disk: 15.15 GB\n",
      "Used Disk: 9.84 GB\n",
      "Percentage Usage Of Disk: 39.4%\n"
     ]
    }
   ],
   "source": [
    "# check system details\n",
    "import os\n",
    "import psutil\n",
    "import cpuinfo\n",
    "\n",
    "ram_info = psutil.virtual_memory()\n",
    "print(f\"Total RAM: {ram_info.total / 1024 / 1024 / 1024:.2f} GB\")\n",
    "print(f\"Available RAM: {ram_info.available / 1024 / 1024 / 1024:.2f} GB\")\n",
    "print(f\"Used RAM: {ram_info.used / 1024 / 1024 / 1024:.2f} GB\")\n",
    "print(f\"Percentage Usage Of RAM: {ram_info.percent}%\")\n",
    "print(f\"CPU Cores: {os.cpu_count()}\")\n",
    "print(f\"CPU Speed: {cpuinfo.get_cpu_info()['hz_actual_friendly']}\")\n",
    "disk_info = psutil.disk_usage(os.getcwd())\n",
    "print(f\"Total Disk: {disk_info.total / 1024 / 1024 / 1024:.2f} GB\")\n",
    "print(f\"Available Disk: {disk_info.free / 1024 / 1024 / 1024:.2f} GB\")\n",
    "print(f\"Used Disk: {disk_info.used / 1024 / 1024 / 1024:.2f} GB\")\n",
    "print(f\"Percentage Usage Of Disk: {disk_info.percent}%\")"
   ]
  },
  {
   "cell_type": "code",
   "execution_count": 3,
   "id": "3aa0ef51-d46b-4ccf-9caa-741ad90c77c1",
   "metadata": {
    "tags": []
   },
   "outputs": [
    {
     "name": "stderr",
     "output_type": "stream",
     "text": [
      "2023-10-16 13:43:53.304199: I tensorflow/core/platform/cpu_feature_guard.cc:182] This TensorFlow binary is optimized to use available CPU instructions in performance-critical operations.\n",
      "To enable the following instructions: SSE4.1 SSE4.2 AVX AVX2 AVX512F FMA, in other operations, rebuild TensorFlow with the appropriate compiler flags.\n"
     ]
    }
   ],
   "source": [
    "# import requirements\n",
    "import pandas as pd\n",
    "from sklearn.metrics import mean_squared_error, r2_score\n",
    "from wrangle import prepare\n",
    "from nnet_regressor import Regression"
   ]
  },
  {
   "cell_type": "code",
   "execution_count": 4,
   "id": "32da91cf-563e-4206-97d7-6a3c7af2bcfa",
   "metadata": {
    "tags": []
   },
   "outputs": [],
   "source": [
    "# get the data\n",
    "crime = pd.read_csv(\"crime.csv\")"
   ]
  },
  {
   "cell_type": "code",
   "execution_count": 5,
   "id": "2118c045-da21-4dbe-8167-3e45d5a8e059",
   "metadata": {},
   "outputs": [
    {
     "name": "stdout",
     "output_type": "stream",
     "text": [
      "Data Wrangling:\n",
      "> Converting Timestamps\n",
      "> Computing Crime Rate\n",
      "> Finding Days With No Crime\n",
      "> Extracting Time Features\n",
      "> Getting Economic Data\n",
      "> Computing Weekly Crime Rate\n",
      "> Computing Previous Weeks Of Crime\n",
      "6.55 Seconds\n",
      "Plotting:\n",
      "> Plotting Correlations\n",
      "> Crimes vs. NASDAQ\n",
      "> Crimes vs. Unemployment\n",
      "> Crimes vs. CPI\n",
      "> Crimes vs. PPI\n",
      "> Crimes vs. GDP\n",
      "> Crimes vs. GDI\n",
      "> Crimes vs. Federal_Funds_Rate\n",
      "> Crimes vs. Crimes(t-1)\n",
      "> Crimes vs. Crimes(t-2)\n",
      "> Crimes vs. Crimes(t-3)\n",
      "> Crimes vs. Crimes(t-4)\n",
      "> NASDAQ vs. Unemployment\n",
      "> NASDAQ vs. CPI\n",
      "> NASDAQ vs. PPI\n",
      "> NASDAQ vs. GDP\n",
      "> NASDAQ vs. GDI\n",
      "> NASDAQ vs. Federal_Funds_Rate\n",
      "> NASDAQ vs. Crimes(t-1)\n",
      "> NASDAQ vs. Crimes(t-2)\n",
      "> NASDAQ vs. Crimes(t-3)\n",
      "> NASDAQ vs. Crimes(t-4)\n",
      "> Unemployment vs. CPI\n",
      "> Unemployment vs. PPI\n",
      "> Unemployment vs. GDP\n",
      "> Unemployment vs. GDI\n",
      "> Unemployment vs. Federal_Funds_Rate\n",
      "> Unemployment vs. Crimes(t-1)\n",
      "> Unemployment vs. Crimes(t-2)\n",
      "> Unemployment vs. Crimes(t-3)\n",
      "> Unemployment vs. Crimes(t-4)\n",
      "> CPI vs. PPI\n",
      "> CPI vs. GDP\n",
      "> CPI vs. GDI\n",
      "> CPI vs. Federal_Funds_Rate\n",
      "> CPI vs. Crimes(t-1)\n",
      "> CPI vs. Crimes(t-2)\n",
      "> CPI vs. Crimes(t-3)\n",
      "> CPI vs. Crimes(t-4)\n",
      "> PPI vs. GDP\n",
      "> PPI vs. GDI\n",
      "> PPI vs. Federal_Funds_Rate\n",
      "> PPI vs. Crimes(t-1)\n",
      "> PPI vs. Crimes(t-2)\n",
      "> PPI vs. Crimes(t-3)\n",
      "> PPI vs. Crimes(t-4)\n",
      "> GDP vs. GDI\n",
      "> GDP vs. Federal_Funds_Rate\n",
      "> GDP vs. Crimes(t-1)\n",
      "> GDP vs. Crimes(t-2)\n",
      "> GDP vs. Crimes(t-3)\n",
      "> GDP vs. Crimes(t-4)\n",
      "> GDI vs. Federal_Funds_Rate\n",
      "> GDI vs. Crimes(t-1)\n",
      "> GDI vs. Crimes(t-2)\n",
      "> GDI vs. Crimes(t-3)\n",
      "> GDI vs. Crimes(t-4)\n",
      "> Federal_Funds_Rate vs. Crimes(t-1)\n",
      "> Federal_Funds_Rate vs. Crimes(t-2)\n",
      "> Federal_Funds_Rate vs. Crimes(t-3)\n",
      "> Federal_Funds_Rate vs. Crimes(t-4)\n",
      "> Crimes(t-1) vs. Crimes(t-2)\n",
      "> Crimes(t-1) vs. Crimes(t-3)\n",
      "> Crimes(t-1) vs. Crimes(t-4)\n",
      "> Crimes(t-2) vs. Crimes(t-3)\n",
      "> Crimes(t-2) vs. Crimes(t-4)\n",
      "> Crimes(t-3) vs. Crimes(t-4)\n",
      "> Plotting Dc_Dist\n",
      "> Plotting Year\n",
      "> Plotting Quarter\n",
      "> Plotting Month\n",
      "> Plotting Week\n",
      "> Plotting Days\n",
      "> Dc_Dist vs. Year\n",
      "> Dc_Dist vs. Quarter\n",
      "> Dc_Dist vs. Month\n",
      "> Dc_Dist vs. Week\n",
      "> Dc_Dist vs. Days\n",
      "> Year vs. Quarter\n",
      "> Year vs. Month\n",
      "> Year vs. Week\n",
      "> Year vs. Days\n",
      "> Quarter vs. Month\n",
      "> Quarter vs. Week\n",
      "> Quarter vs. Days\n",
      "> Month vs. Week\n",
      "> Month vs. Days\n",
      "> Week vs. Days\n",
      "> Crimes vs. Dc_Dist\n",
      "> Crimes vs. Year\n",
      "> Crimes vs. Quarter\n",
      "> Crimes vs. Month\n",
      "> Crimes vs. Week\n",
      "> Crimes vs. Days\n",
      "> NASDAQ vs. Dc_Dist\n",
      "> NASDAQ vs. Year\n",
      "> NASDAQ vs. Quarter\n",
      "> NASDAQ vs. Month\n",
      "> NASDAQ vs. Week\n",
      "> NASDAQ vs. Days\n",
      "> Unemployment vs. Dc_Dist\n",
      "> Unemployment vs. Year\n",
      "> Unemployment vs. Quarter\n",
      "> Unemployment vs. Month\n",
      "> Unemployment vs. Week\n",
      "> Unemployment vs. Days\n",
      "> CPI vs. Dc_Dist\n",
      "> CPI vs. Year\n",
      "> CPI vs. Quarter\n",
      "> CPI vs. Month\n",
      "> CPI vs. Week\n",
      "> CPI vs. Days\n",
      "> PPI vs. Dc_Dist\n",
      "> PPI vs. Year\n",
      "> PPI vs. Quarter\n",
      "> PPI vs. Month\n",
      "> PPI vs. Week\n",
      "> PPI vs. Days\n",
      "> GDP vs. Dc_Dist\n",
      "> GDP vs. Year\n",
      "> GDP vs. Quarter\n",
      "> GDP vs. Month\n",
      "> GDP vs. Week\n",
      "> GDP vs. Days\n",
      "> GDI vs. Dc_Dist\n",
      "> GDI vs. Year\n",
      "> GDI vs. Quarter\n",
      "> GDI vs. Month\n",
      "> GDI vs. Week\n",
      "> GDI vs. Days\n",
      "> Federal_Funds_Rate vs. Dc_Dist\n",
      "> Federal_Funds_Rate vs. Year\n",
      "> Federal_Funds_Rate vs. Quarter\n",
      "> Federal_Funds_Rate vs. Month\n",
      "> Federal_Funds_Rate vs. Week\n",
      "> Federal_Funds_Rate vs. Days\n",
      "> Crimes(t-1) vs. Dc_Dist\n",
      "> Crimes(t-1) vs. Year\n",
      "> Crimes(t-1) vs. Quarter\n",
      "> Crimes(t-1) vs. Month\n",
      "> Crimes(t-1) vs. Week\n",
      "> Crimes(t-1) vs. Days\n",
      "> Crimes(t-2) vs. Dc_Dist\n",
      "> Crimes(t-2) vs. Year\n",
      "> Crimes(t-2) vs. Quarter\n",
      "> Crimes(t-2) vs. Month\n",
      "> Crimes(t-2) vs. Week\n",
      "> Crimes(t-2) vs. Days\n",
      "> Crimes(t-3) vs. Dc_Dist\n",
      "> Crimes(t-3) vs. Year\n",
      "> Crimes(t-3) vs. Quarter\n",
      "> Crimes(t-3) vs. Month\n",
      "> Crimes(t-3) vs. Week\n",
      "> Crimes(t-3) vs. Days\n",
      "> Crimes(t-4) vs. Dc_Dist\n",
      "> Crimes(t-4) vs. Year\n",
      "> Crimes(t-4) vs. Quarter\n",
      "> Crimes(t-4) vs. Month\n",
      "> Crimes(t-4) vs. Week\n",
      "> Crimes(t-4) vs. Days\n",
      "17.94 Seconds\n"
     ]
    }
   ],
   "source": [
    "# prepare the data for machine learning\n",
    "crime = prepare(df=crime, name=\"Data Preparation\", path=None, plots=True)"
   ]
  },
  {
   "cell_type": "code",
   "execution_count": 6,
   "id": "45f9301a-5582-4abd-8e1b-33a9302eb898",
   "metadata": {
    "tags": []
   },
   "outputs": [],
   "source": [
    "# get the testing data\n",
    "y = crime[[\"Crimes\"]]\n",
    "X = crime.drop(columns=\"Crimes\")\n",
    "testX = X.tail(int(0.2 * X.shape[0])).reset_index(drop=True)\n",
    "testy = y.tail(int(0.2 * y.shape[0])).reset_index(drop=True)"
   ]
  },
  {
   "cell_type": "code",
   "execution_count": 7,
   "id": "a543694e-96f5-4e1e-ac1c-17e2694f648b",
   "metadata": {
    "tags": []
   },
   "outputs": [
    {
     "name": "stdout",
     "output_type": "stream",
     "text": [
      "\n",
      "---- Crime Regression Analysis ----\n",
      "\n",
      "Model Training:\n",
      "> Transforming The Training Data\n",
      "> Transforming Categorical Features\n",
      "> Removing Constant Features\n",
      "> Scaling Features\n",
      "> Training Neural Network\n",
      "16.35 Minutes\n",
      "Model Performance:\n",
      "> Transforming The Testing Data\n",
      "> Scoring The Model\n",
      "3.0 Seconds\n",
      "Model Indicators:\n",
      "> Perturbing Features\n",
      "1.34 Minutes\n",
      "Model Prediction:\n",
      "> Transforming The New Data\n",
      "> Getting Predictions\n",
      "0.27 Seconds\n",
      "Model Monitoring:\n",
      "> Computing Feature Drift\n",
      "0.89 Seconds\n",
      "R2: 0.888439143937185\n",
      "RMSE: 28.484833354620775\n",
      "In Control: 97.36%\n"
     ]
    }
   ],
   "source": [
    "# build the model\n",
    "print(\"\\n---- Crime Regression Analysis ----\\n\")\n",
    "model = Regression(\n",
    "    name=\"Tensorflow Without Feature Engineering\", \n",
    "    path=None,\n",
    "    rename=False, \n",
    "    deep=True,\n",
    "    time=False, \n",
    "    binary=True, \n",
    "    imputation=False, \n",
    "    variance=True,\n",
    "    scale=True,\n",
    "    atwood=False,\n",
    "    binning=False,\n",
    "    reciprocal=False, \n",
    "    interaction=False, \n",
    "    selection=False,\n",
    "    plots=True,\n",
    ")\n",
    "try:\n",
    "    model.load()  # load the machine learning pipeline\n",
    "    predictions = model.predict(testX)\n",
    "except:\n",
    "    model.validate(X, y)  # build the machine learning pipeline\n",
    "    predictions = model.predict(testX)\n",
    "    print(f\"R2: {model.r2}\")\n",
    "    print(f\"RMSE: {model.rmse}\")\n",
    "    print(f\"In Control: {model.in_control}\")"
   ]
  },
  {
   "cell_type": "code",
   "execution_count": 8,
   "id": "a057156c-323e-498d-937c-d8d3523397ee",
   "metadata": {},
   "outputs": [
    {
     "name": "stdout",
     "output_type": "stream",
     "text": [
      "Model Indicators:\n",
      "1. GDI\n",
      "2. Federal_Funds_Rate\n",
      "3. GDP\n",
      "4. PPI\n",
      "5. Unemployment\n",
      "6. CPI\n",
      "7. NASDAQ\n",
      "8. Week_9\n",
      "9. Week_8\n",
      "10. Crimes(t-1)\n",
      " \n",
      "Feature Drift:\n",
      "1. Month_1\n",
      "2. Quarter_1\n",
      "3. Crimes(t-4)\n",
      "4. Crimes(t-3)\n",
      "5. Crimes(t-2)\n",
      "6. Crimes(t-1)\n",
      "7. Year_2006\n",
      "8. Year_2007\n",
      "9. Year_2013\n",
      "10. Year_2012\n"
     ]
    }
   ],
   "source": [
    "# model diagnostics\n",
    "print(\"Model Indicators:\")\n",
    "for i, indicator in enumerate(model.indicators[\"Indicator\"][:10]):\n",
    "    print(f\"{i+1}. {indicator}\")\n",
    "print(\" \")\n",
    "print(\"Feature Drift:\")\n",
    "for i, feature in enumerate(model.drift.loc[model.drift[\"pvalue\"] < 0.05, \"Feature\"][:10]):\n",
    "    print(f\"{i+1}. {feature}\")\n",
    "if model.drift.loc[model.drift[\"pvalue\"] < 0.05].shape[0] == 0:\n",
    "    print(\"None\")"
   ]
  },
  {
   "cell_type": "code",
   "execution_count": 9,
   "id": "30b9ca50-06d6-49b7-848b-c0852e302909",
   "metadata": {
    "tags": []
   },
   "outputs": [
    {
     "name": "stdout",
     "output_type": "stream",
     "text": [
      "RMSE: 28.463612644240648\n",
      "R2: 0.8890745742566586\n"
     ]
    }
   ],
   "source": [
    "# score the model\n",
    "rmse = mean_squared_error(\n",
    "    y_true=testy.iloc[:,0].to_numpy(),\n",
    "    y_pred=predictions,\n",
    "    squared=False,\n",
    ")\n",
    "r2 = r2_score(\n",
    "    y_true=testy.iloc[:,0].to_numpy(),\n",
    "    y_pred=predictions,\n",
    ")\n",
    "\n",
    "print(f\"RMSE: {rmse}\")\n",
    "print(f\"R2: {r2}\")"
   ]
  },
  {
   "cell_type": "code",
   "execution_count": 10,
   "id": "2226e286-b762-4265-a3de-de9a5561d5ec",
   "metadata": {
    "tags": []
   },
   "outputs": [],
   "source": [
    "# save the machine learning pipeline\n",
    "model.dump()"
   ]
  },
  {
   "cell_type": "code",
   "execution_count": 11,
   "id": "77cf2f6c-400c-4dbb-bf49-53bdd6fad4de",
   "metadata": {
    "tags": []
   },
   "outputs": [
    {
     "name": "stdout",
     "output_type": "stream",
     "text": [
      "Model Retraining:\n",
      "> Transforming The Updated Data\n",
      "> Transforming Categorical Features\n",
      "> Removing Constant Features\n",
      "> Scaling Features\n",
      "> Training Neural Network\n",
      "25.07 Minutes\n",
      "Model Indicators:\n",
      "> Perturbing Features\n",
      "1.81 Minutes\n"
     ]
    }
   ],
   "source": [
    "# refit the model to include the test data\n",
    "model.refit(testX, testy)"
   ]
  }
 ],
 "metadata": {
  "kernelspec": {
   "display_name": "sagemaker-distribution:Python",
   "language": "python",
   "name": "conda-env-sagemaker-distribution-py"
  },
  "language_info": {
   "codemirror_mode": {
    "name": "ipython",
    "version": 3
   },
   "file_extension": ".py",
   "mimetype": "text/x-python",
   "name": "python",
   "nbconvert_exporter": "python",
   "pygments_lexer": "ipython3",
   "version": "3.8.17"
  }
 },
 "nbformat": 4,
 "nbformat_minor": 5
}
