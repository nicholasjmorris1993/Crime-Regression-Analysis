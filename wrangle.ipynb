{
 "cells": [
  {
   "cell_type": "markdown",
   "id": "ccd3012f-2429-4912-8331-24892405abb0",
   "metadata": {},
   "source": [
    "[Download The Data](https://www.kaggle.com/datasets/mchirico/philadelphiacrimedata)"
   ]
  },
  {
   "cell_type": "code",
   "execution_count": 1,
   "id": "8b051e8c-089d-4c0a-bdf8-9a1d0f86a6a4",
   "metadata": {
    "tags": []
   },
   "outputs": [],
   "source": [
    "import numpy as np\n",
    "import pandas as pd\n",
    "from sklearn.preprocessing import OneHotEncoder"
   ]
  },
  {
   "cell_type": "code",
   "execution_count": 2,
   "id": "32da91cf-563e-4206-97d7-6a3c7af2bcfa",
   "metadata": {
    "tags": []
   },
   "outputs": [],
   "source": [
    "# get the data\n",
    "df = pd.read_csv(\"crime.csv\")"
   ]
  },
  {
   "cell_type": "code",
   "execution_count": 3,
   "id": "dbb40078-fcbf-424e-b1cf-8b054aa90608",
   "metadata": {
    "tags": []
   },
   "outputs": [
    {
     "data": {
      "text/html": [
       "<div>\n",
       "<style scoped>\n",
       "    .dataframe tbody tr th:only-of-type {\n",
       "        vertical-align: middle;\n",
       "    }\n",
       "\n",
       "    .dataframe tbody tr th {\n",
       "        vertical-align: top;\n",
       "    }\n",
       "\n",
       "    .dataframe thead th {\n",
       "        text-align: right;\n",
       "    }\n",
       "</style>\n",
       "<table border=\"1\" class=\"dataframe\">\n",
       "  <thead>\n",
       "    <tr style=\"text-align: right;\">\n",
       "      <th></th>\n",
       "      <th>Dc_Dist</th>\n",
       "      <th>Psa</th>\n",
       "      <th>Dispatch_Date_Time</th>\n",
       "      <th>Dispatch_Date</th>\n",
       "      <th>Dispatch_Time</th>\n",
       "      <th>Hour</th>\n",
       "      <th>Dc_Key</th>\n",
       "      <th>Location_Block</th>\n",
       "      <th>UCR_General</th>\n",
       "      <th>Text_General_Code</th>\n",
       "      <th>Police_Districts</th>\n",
       "      <th>Month</th>\n",
       "      <th>Lon</th>\n",
       "      <th>Lat</th>\n",
       "    </tr>\n",
       "  </thead>\n",
       "  <tbody>\n",
       "    <tr>\n",
       "      <th>0</th>\n",
       "      <td>18</td>\n",
       "      <td>3</td>\n",
       "      <td>2009-10-02 14:24:00</td>\n",
       "      <td>2009-10-02</td>\n",
       "      <td>14:24:00</td>\n",
       "      <td>14</td>\n",
       "      <td>200918067518</td>\n",
       "      <td>S 38TH ST  / MARKETUT ST</td>\n",
       "      <td>800.0</td>\n",
       "      <td>Other Assaults</td>\n",
       "      <td>NaN</td>\n",
       "      <td>2009-10</td>\n",
       "      <td>NaN</td>\n",
       "      <td>NaN</td>\n",
       "    </tr>\n",
       "    <tr>\n",
       "      <th>1</th>\n",
       "      <td>14</td>\n",
       "      <td>1</td>\n",
       "      <td>2009-05-10 00:55:00</td>\n",
       "      <td>2009-05-10</td>\n",
       "      <td>00:55:00</td>\n",
       "      <td>0</td>\n",
       "      <td>200914033994</td>\n",
       "      <td>8500 BLOCK MITCH</td>\n",
       "      <td>2600.0</td>\n",
       "      <td>All Other Offenses</td>\n",
       "      <td>NaN</td>\n",
       "      <td>2009-05</td>\n",
       "      <td>NaN</td>\n",
       "      <td>NaN</td>\n",
       "    </tr>\n",
       "    <tr>\n",
       "      <th>2</th>\n",
       "      <td>25</td>\n",
       "      <td>J</td>\n",
       "      <td>2009-08-07 15:40:00</td>\n",
       "      <td>2009-08-07</td>\n",
       "      <td>15:40:00</td>\n",
       "      <td>15</td>\n",
       "      <td>200925083199</td>\n",
       "      <td>6TH CAMBRIA</td>\n",
       "      <td>800.0</td>\n",
       "      <td>Other Assaults</td>\n",
       "      <td>NaN</td>\n",
       "      <td>2009-08</td>\n",
       "      <td>NaN</td>\n",
       "      <td>NaN</td>\n",
       "    </tr>\n",
       "    <tr>\n",
       "      <th>3</th>\n",
       "      <td>35</td>\n",
       "      <td>D</td>\n",
       "      <td>2009-07-19 01:09:00</td>\n",
       "      <td>2009-07-19</td>\n",
       "      <td>01:09:00</td>\n",
       "      <td>1</td>\n",
       "      <td>200935061008</td>\n",
       "      <td>5500 BLOCK N 5TH ST</td>\n",
       "      <td>1500.0</td>\n",
       "      <td>Weapon Violations</td>\n",
       "      <td>20.0</td>\n",
       "      <td>2009-07</td>\n",
       "      <td>-75.130477</td>\n",
       "      <td>40.036389</td>\n",
       "    </tr>\n",
       "    <tr>\n",
       "      <th>4</th>\n",
       "      <td>9</td>\n",
       "      <td>R</td>\n",
       "      <td>2009-06-25 00:14:00</td>\n",
       "      <td>2009-06-25</td>\n",
       "      <td>00:14:00</td>\n",
       "      <td>0</td>\n",
       "      <td>200909030511</td>\n",
       "      <td>1800 BLOCK WYLIE ST</td>\n",
       "      <td>2600.0</td>\n",
       "      <td>All Other Offenses</td>\n",
       "      <td>8.0</td>\n",
       "      <td>2009-06</td>\n",
       "      <td>-75.166350</td>\n",
       "      <td>39.969532</td>\n",
       "    </tr>\n",
       "  </tbody>\n",
       "</table>\n",
       "</div>"
      ],
      "text/plain": [
       "   Dc_Dist Psa   Dispatch_Date_Time Dispatch_Date Dispatch_Time  Hour  \\\n",
       "0       18   3  2009-10-02 14:24:00    2009-10-02      14:24:00    14   \n",
       "1       14   1  2009-05-10 00:55:00    2009-05-10      00:55:00     0   \n",
       "2       25   J  2009-08-07 15:40:00    2009-08-07      15:40:00    15   \n",
       "3       35   D  2009-07-19 01:09:00    2009-07-19      01:09:00     1   \n",
       "4        9   R  2009-06-25 00:14:00    2009-06-25      00:14:00     0   \n",
       "\n",
       "         Dc_Key            Location_Block  UCR_General   Text_General_Code  \\\n",
       "0  200918067518  S 38TH ST  / MARKETUT ST        800.0      Other Assaults   \n",
       "1  200914033994          8500 BLOCK MITCH       2600.0  All Other Offenses   \n",
       "2  200925083199               6TH CAMBRIA        800.0      Other Assaults   \n",
       "3  200935061008       5500 BLOCK N 5TH ST       1500.0   Weapon Violations   \n",
       "4  200909030511       1800 BLOCK WYLIE ST       2600.0  All Other Offenses   \n",
       "\n",
       "   Police_Districts    Month        Lon        Lat  \n",
       "0               NaN  2009-10        NaN        NaN  \n",
       "1               NaN  2009-05        NaN        NaN  \n",
       "2               NaN  2009-08        NaN        NaN  \n",
       "3              20.0  2009-07 -75.130477  40.036389  \n",
       "4               8.0  2009-06 -75.166350  39.969532  "
      ]
     },
     "execution_count": 3,
     "metadata": {},
     "output_type": "execute_result"
    }
   ],
   "source": [
    "# check out the data\n",
    "df.head()"
   ]
  },
  {
   "cell_type": "code",
   "execution_count": 4,
   "id": "b8961d1b-e851-4581-805a-76f28353a7ab",
   "metadata": {
    "tags": []
   },
   "outputs": [],
   "source": [
    "# convert timestamps to datetime\n",
    "df[\"Dispatch_Date_Time\"] = pd.to_datetime(df[\"Dispatch_Date_Time\"])\n",
    "df[\"Dispatch_Date\"] = pd.to_datetime(df[\"Dispatch_Date\"])"
   ]
  },
  {
   "cell_type": "code",
   "execution_count": 5,
   "id": "dc747c66-2b22-44d2-a15b-46fb72a98dcc",
   "metadata": {
    "tags": []
   },
   "outputs": [],
   "source": [
    "# sort the data by time and district\n",
    "df = df.sort_values(by=[\"Dispatch_Date_Time\", \"Dc_Dist\"], ascending=True).reset_index(drop=True)"
   ]
  },
  {
   "cell_type": "code",
   "execution_count": 6,
   "id": "e34ee7db-608c-429c-8faf-b9d34e463e7c",
   "metadata": {
    "tags": []
   },
   "outputs": [],
   "source": [
    "# count how many crimes happened by day and district\n",
    "df = df.groupby([\"Dispatch_Date\", \"Dc_Dist\"]).agg({\"Dispatch_Date\": \"count\"})\n",
    "df.columns = [\"Crimes\"]\n",
    "df = df.reset_index()"
   ]
  },
  {
   "cell_type": "code",
   "execution_count": 7,
   "id": "0c9c0c9c-63a4-4e1d-9b41-d96254b2ff06",
   "metadata": {
    "tags": []
   },
   "outputs": [
    {
     "data": {
      "text/html": [
       "<div>\n",
       "<style scoped>\n",
       "    .dataframe tbody tr th:only-of-type {\n",
       "        vertical-align: middle;\n",
       "    }\n",
       "\n",
       "    .dataframe tbody tr th {\n",
       "        vertical-align: top;\n",
       "    }\n",
       "\n",
       "    .dataframe thead th {\n",
       "        text-align: right;\n",
       "    }\n",
       "</style>\n",
       "<table border=\"1\" class=\"dataframe\">\n",
       "  <thead>\n",
       "    <tr style=\"text-align: right;\">\n",
       "      <th></th>\n",
       "      <th>Dispatch_Date</th>\n",
       "      <th>Dc_Dist</th>\n",
       "      <th>Crimes</th>\n",
       "    </tr>\n",
       "  </thead>\n",
       "  <tbody>\n",
       "    <tr>\n",
       "      <th>0</th>\n",
       "      <td>2006-01-01</td>\n",
       "      <td>1</td>\n",
       "      <td>14</td>\n",
       "    </tr>\n",
       "    <tr>\n",
       "      <th>1</th>\n",
       "      <td>2006-01-01</td>\n",
       "      <td>2</td>\n",
       "      <td>22</td>\n",
       "    </tr>\n",
       "    <tr>\n",
       "      <th>2</th>\n",
       "      <td>2006-01-01</td>\n",
       "      <td>3</td>\n",
       "      <td>37</td>\n",
       "    </tr>\n",
       "    <tr>\n",
       "      <th>3</th>\n",
       "      <td>2006-01-01</td>\n",
       "      <td>4</td>\n",
       "      <td>32</td>\n",
       "    </tr>\n",
       "    <tr>\n",
       "      <th>4</th>\n",
       "      <td>2006-01-01</td>\n",
       "      <td>5</td>\n",
       "      <td>12</td>\n",
       "    </tr>\n",
       "  </tbody>\n",
       "</table>\n",
       "</div>"
      ],
      "text/plain": [
       "  Dispatch_Date  Dc_Dist  Crimes\n",
       "0    2006-01-01        1      14\n",
       "1    2006-01-01        2      22\n",
       "2    2006-01-01        3      37\n",
       "3    2006-01-01        4      32\n",
       "4    2006-01-01        5      12"
      ]
     },
     "execution_count": 7,
     "metadata": {},
     "output_type": "execute_result"
    }
   ],
   "source": [
    "df.head()"
   ]
  },
  {
   "cell_type": "code",
   "execution_count": 8,
   "id": "8076c210-2189-41c7-b32c-06a3257078a4",
   "metadata": {
    "tags": []
   },
   "outputs": [],
   "source": [
    "# get the days and places when there was no crime\n",
    "# create a grid of all day and district combinations\n",
    "days = pd.unique(df[\"Dispatch_Date\"]).astype(str)\n",
    "districts = pd.unique(df[\"Dc_Dist\"]).astype(str)\n",
    "grid = np.array(np.meshgrid(days, districts)).reshape(2, len(days) * len(districts)).T\n",
    "grid = pd.DataFrame(grid, columns=[\"Dispatch_Date\", \"Dc_Dist\"])\n",
    "grid[\"Dispatch_Date\"] = pd.to_datetime(grid[\"Dispatch_Date\"])\n",
    "grid[\"Dc_Dist\"] = grid[\"Dc_Dist\"].astype(int)\n",
    "\n",
    "# join the crime rate onto the grid\n",
    "df = grid.merge(right=df, how=\"left\", on=[\"Dispatch_Date\", \"Dc_Dist\"])\n",
    "\n",
    "# replace missing values with 0\n",
    "df = df.fillna(0)"
   ]
  },
  {
   "cell_type": "code",
   "execution_count": 9,
   "id": "855dadf5-a315-4726-95bb-dac8f1e81373",
   "metadata": {
    "tags": []
   },
   "outputs": [],
   "source": [
    "# extract time features\n",
    "df[\"Year\"] = df[\"Dispatch_Date\"].dt.isocalendar().year\n",
    "df[\"Month\"] = df[\"Dispatch_Date\"].dt.month\n",
    "df[\"Week\"] = df[\"Dispatch_Date\"].dt.isocalendar().week\n",
    "df[\"Year_Week\"] = df[\"Year\"].astype(str) + \"_\" + df[\"Week\"].astype(str)"
   ]
  },
  {
   "cell_type": "code",
   "execution_count": 10,
   "id": "ab50a3c5-418c-4666-89cc-1d48041c51a0",
   "metadata": {
    "tags": []
   },
   "outputs": [],
   "source": [
    "# get the weekly crime rate\n",
    "df = df.groupby([\"Year_Week\", \"Dc_Dist\"]).agg({\"Crimes\": \"sum\", \"Year\": \"min\", \"Month\": \"min\", \"Week\": \"min\", \"Dispatch_Date\": \"count\"})\n",
    "df.columns = [\"Crimes\", \"Year\", \"Month\", \"Week\", \"Days\"]\n",
    "df = df.reset_index()"
   ]
  },
  {
   "cell_type": "code",
   "execution_count": 11,
   "id": "f35c0909-ee33-435d-ace7-b44368fd1b57",
   "metadata": {
    "tags": []
   },
   "outputs": [],
   "source": [
    "# sort by time and district\n",
    "df = df.sort_values(by=[\"Year\", \"Week\", \"Dc_Dist\"], ascending=True).reset_index(drop=True)\n",
    "df = df.drop(columns=\"Year_Week\")"
   ]
  },
  {
   "cell_type": "code",
   "execution_count": 12,
   "id": "02245abd-7c35-4551-8131-ce484ff95b3b",
   "metadata": {
    "tags": []
   },
   "outputs": [
    {
     "data": {
      "text/html": [
       "<div>\n",
       "<style scoped>\n",
       "    .dataframe tbody tr th:only-of-type {\n",
       "        vertical-align: middle;\n",
       "    }\n",
       "\n",
       "    .dataframe tbody tr th {\n",
       "        vertical-align: top;\n",
       "    }\n",
       "\n",
       "    .dataframe thead th {\n",
       "        text-align: right;\n",
       "    }\n",
       "</style>\n",
       "<table border=\"1\" class=\"dataframe\">\n",
       "  <thead>\n",
       "    <tr style=\"text-align: right;\">\n",
       "      <th></th>\n",
       "      <th>Dc_Dist</th>\n",
       "      <th>Crimes</th>\n",
       "      <th>Year</th>\n",
       "      <th>Month</th>\n",
       "      <th>Week</th>\n",
       "      <th>Days</th>\n",
       "    </tr>\n",
       "  </thead>\n",
       "  <tbody>\n",
       "    <tr>\n",
       "      <th>0</th>\n",
       "      <td>1</td>\n",
       "      <td>14.0</td>\n",
       "      <td>2005</td>\n",
       "      <td>1</td>\n",
       "      <td>52</td>\n",
       "      <td>1</td>\n",
       "    </tr>\n",
       "    <tr>\n",
       "      <th>1</th>\n",
       "      <td>2</td>\n",
       "      <td>22.0</td>\n",
       "      <td>2005</td>\n",
       "      <td>1</td>\n",
       "      <td>52</td>\n",
       "      <td>1</td>\n",
       "    </tr>\n",
       "    <tr>\n",
       "      <th>2</th>\n",
       "      <td>3</td>\n",
       "      <td>37.0</td>\n",
       "      <td>2005</td>\n",
       "      <td>1</td>\n",
       "      <td>52</td>\n",
       "      <td>1</td>\n",
       "    </tr>\n",
       "    <tr>\n",
       "      <th>3</th>\n",
       "      <td>4</td>\n",
       "      <td>32.0</td>\n",
       "      <td>2005</td>\n",
       "      <td>1</td>\n",
       "      <td>52</td>\n",
       "      <td>1</td>\n",
       "    </tr>\n",
       "    <tr>\n",
       "      <th>4</th>\n",
       "      <td>5</td>\n",
       "      <td>12.0</td>\n",
       "      <td>2005</td>\n",
       "      <td>1</td>\n",
       "      <td>52</td>\n",
       "      <td>1</td>\n",
       "    </tr>\n",
       "  </tbody>\n",
       "</table>\n",
       "</div>"
      ],
      "text/plain": [
       "   Dc_Dist  Crimes  Year  Month  Week  Days\n",
       "0        1    14.0  2005      1    52     1\n",
       "1        2    22.0  2005      1    52     1\n",
       "2        3    37.0  2005      1    52     1\n",
       "3        4    32.0  2005      1    52     1\n",
       "4        5    12.0  2005      1    52     1"
      ]
     },
     "execution_count": 12,
     "metadata": {},
     "output_type": "execute_result"
    }
   ],
   "source": [
    "df.head()"
   ]
  },
  {
   "cell_type": "code",
   "execution_count": 13,
   "id": "fef0e8bc-1dfe-429d-91e3-12c6f773593b",
   "metadata": {
    "tags": []
   },
   "outputs": [],
   "source": [
    "# for each district insert the previous month of crime\n",
    "crimes = pd.DataFrame()\n",
    "districts = pd.unique(df[\"Dc_Dist\"])\n",
    "for dist in districts:\n",
    "    data = df.loc[df[\"Dc_Dist\"] == dist].reset_index(drop=True)\n",
    "    for i in range(4):\n",
    "        data[f\"Crimes(t-{i+1})\"] = data[\"Crimes\"].shift(i+1)\n",
    "    data = data.tail(data.shape[0] - 4).reset_index(drop=True)\n",
    "    crimes = pd.concat([crimes, data], axis=\"index\").reset_index(drop=True)"
   ]
  },
  {
   "cell_type": "code",
   "execution_count": 14,
   "id": "dd6dd301-995e-4168-98c0-f6eab71b78cc",
   "metadata": {
    "tags": []
   },
   "outputs": [
    {
     "data": {
      "text/html": [
       "<div>\n",
       "<style scoped>\n",
       "    .dataframe tbody tr th:only-of-type {\n",
       "        vertical-align: middle;\n",
       "    }\n",
       "\n",
       "    .dataframe tbody tr th {\n",
       "        vertical-align: top;\n",
       "    }\n",
       "\n",
       "    .dataframe thead th {\n",
       "        text-align: right;\n",
       "    }\n",
       "</style>\n",
       "<table border=\"1\" class=\"dataframe\">\n",
       "  <thead>\n",
       "    <tr style=\"text-align: right;\">\n",
       "      <th></th>\n",
       "      <th>Dc_Dist</th>\n",
       "      <th>Crimes</th>\n",
       "      <th>Year</th>\n",
       "      <th>Month</th>\n",
       "      <th>Week</th>\n",
       "      <th>Days</th>\n",
       "      <th>Crimes(t-1)</th>\n",
       "      <th>Crimes(t-2)</th>\n",
       "      <th>Crimes(t-3)</th>\n",
       "      <th>Crimes(t-4)</th>\n",
       "    </tr>\n",
       "  </thead>\n",
       "  <tbody>\n",
       "    <tr>\n",
       "      <th>0</th>\n",
       "      <td>1</td>\n",
       "      <td>97.0</td>\n",
       "      <td>2006</td>\n",
       "      <td>1</td>\n",
       "      <td>4</td>\n",
       "      <td>7</td>\n",
       "      <td>144.0</td>\n",
       "      <td>103.0</td>\n",
       "      <td>129.0</td>\n",
       "      <td>14.0</td>\n",
       "    </tr>\n",
       "    <tr>\n",
       "      <th>1</th>\n",
       "      <td>1</td>\n",
       "      <td>110.0</td>\n",
       "      <td>2006</td>\n",
       "      <td>1</td>\n",
       "      <td>5</td>\n",
       "      <td>7</td>\n",
       "      <td>97.0</td>\n",
       "      <td>144.0</td>\n",
       "      <td>103.0</td>\n",
       "      <td>129.0</td>\n",
       "    </tr>\n",
       "    <tr>\n",
       "      <th>2</th>\n",
       "      <td>1</td>\n",
       "      <td>77.0</td>\n",
       "      <td>2006</td>\n",
       "      <td>2</td>\n",
       "      <td>6</td>\n",
       "      <td>7</td>\n",
       "      <td>110.0</td>\n",
       "      <td>97.0</td>\n",
       "      <td>144.0</td>\n",
       "      <td>103.0</td>\n",
       "    </tr>\n",
       "    <tr>\n",
       "      <th>3</th>\n",
       "      <td>1</td>\n",
       "      <td>83.0</td>\n",
       "      <td>2006</td>\n",
       "      <td>2</td>\n",
       "      <td>7</td>\n",
       "      <td>7</td>\n",
       "      <td>77.0</td>\n",
       "      <td>110.0</td>\n",
       "      <td>97.0</td>\n",
       "      <td>144.0</td>\n",
       "    </tr>\n",
       "    <tr>\n",
       "      <th>4</th>\n",
       "      <td>1</td>\n",
       "      <td>110.0</td>\n",
       "      <td>2006</td>\n",
       "      <td>2</td>\n",
       "      <td>8</td>\n",
       "      <td>7</td>\n",
       "      <td>83.0</td>\n",
       "      <td>77.0</td>\n",
       "      <td>110.0</td>\n",
       "      <td>97.0</td>\n",
       "    </tr>\n",
       "  </tbody>\n",
       "</table>\n",
       "</div>"
      ],
      "text/plain": [
       "   Dc_Dist  Crimes  Year  Month  Week  Days  Crimes(t-1)  Crimes(t-2)  \\\n",
       "0        1    97.0  2006      1     4     7        144.0        103.0   \n",
       "1        1   110.0  2006      1     5     7         97.0        144.0   \n",
       "2        1    77.0  2006      2     6     7        110.0         97.0   \n",
       "3        1    83.0  2006      2     7     7         77.0        110.0   \n",
       "4        1   110.0  2006      2     8     7         83.0         77.0   \n",
       "\n",
       "   Crimes(t-3)  Crimes(t-4)  \n",
       "0        129.0         14.0  \n",
       "1        103.0        129.0  \n",
       "2        144.0        103.0  \n",
       "3         97.0        144.0  \n",
       "4        110.0         97.0  "
      ]
     },
     "execution_count": 14,
     "metadata": {},
     "output_type": "execute_result"
    }
   ],
   "source": [
    "crimes.head()"
   ]
  },
  {
   "cell_type": "code",
   "execution_count": 15,
   "id": "87eda0fc-a2ca-4eea-8063-50feb489f02b",
   "metadata": {
    "tags": []
   },
   "outputs": [],
   "source": [
    "# transform categorical features into binary columns\n",
    "categories = crimes.copy()[[\"Dc_Dist\", \"Year\", \"Month\", \"Week\", \"Days\"]]\n",
    "crimes = crimes.drop(columns=[\"Dc_Dist\", \"Year\", \"Month\", \"Week\", \"Days\"])\n",
    "encoder = OneHotEncoder(sparse_output=False, handle_unknown=\"ignore\")\n",
    "categories = encoder.fit_transform(categories)\n",
    "categories = pd.DataFrame(categories, columns=encoder.get_feature_names_out())\n",
    "crimes = pd.concat([crimes, categories], axis=\"columns\")"
   ]
  },
  {
   "cell_type": "code",
   "execution_count": 16,
   "id": "2eddc4fe-85cd-4edd-91f4-b095c29c2b1f",
   "metadata": {
    "tags": []
   },
   "outputs": [],
   "source": [
    "# export the data\n",
    "crimes.to_csv(\"crime_rate.csv\", index=False)"
   ]
  }
 ],
 "metadata": {
  "kernelspec": {
   "display_name": "sagemaker-distribution:Python",
   "language": "python",
   "name": "conda-env-sagemaker-distribution-py"
  },
  "language_info": {
   "codemirror_mode": {
    "name": "ipython",
    "version": 3
   },
   "file_extension": ".py",
   "mimetype": "text/x-python",
   "name": "python",
   "nbconvert_exporter": "python",
   "pygments_lexer": "ipython3",
   "version": "3.8.17"
  }
 },
 "nbformat": 4,
 "nbformat_minor": 5
}
